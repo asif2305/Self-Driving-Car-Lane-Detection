{
 "cells": [
  {
   "cell_type": "code",
   "execution_count": null,
   "id": "9d704382",
   "metadata": {},
   "outputs": [],
   "source": [
    "import numpy as np\n",
    "import matplotlib.pyplot as plt\n",
    "%matplotlib inline"
   ]
  },
  {
   "cell_type": "code",
   "execution_count": null,
   "id": "f394f81a",
   "metadata": {},
   "outputs": [],
   "source": [
    "def draw(x1, x2):\n",
    "    ln = plt.plot(x1,x2,'*')\n",
    "    plt.pause(0.0001)\n",
    "    ln[0].remove()\n",
    "\n",
    "def sigmoid(prediction_score):\n",
    "    return 1/ (1 + np.exp(-prediction_score))\n",
    "\n",
    "def cross_entropy(line_parameter,all_point, target):\n",
    "    # n is the total number of the point\n",
    "    n = all_point.shape[0]\n",
    "   # print(n)\n",
    "    prediction = sigmoid(all_point * line_parameter)\n",
    "    #print(prediction)\n",
    "    #  cross_entropy=-(1/n)*(np.log(p).T*y + np.log(1-p).T*(1-y))\n",
    "    #  return -(target * np.log10(prediction) + (1 - target) * (np.log10(1 - prediction)))\n",
    "    error_loss = -(1/n)*(np.log(prediction).T * target + (np.log(1-prediction).T * (1- target)))\n",
    "    #print(np.log10(prediction))\n",
    "   # print(target)\n",
    "    return error_loss\n",
    "  \n",
    "\n",
    "def gradient_decent(line_parameter,points,target_label,learning_rate):\n",
    "    for i in range(2000):\n",
    "        # points * (prediction. target) * (1/ total_points)\n",
    "        total_point = points.shape[0]\n",
    "        prediction = sigmoid(points * line_parameter)\n",
    "        gradient = (points.T * (prediction-target_label))*(learning_rate/total_point)\n",
    "        line_parameter = line_parameter - gradient\n",
    "        w1 = line_parameter.item(0)\n",
    "        w2 = line_parameter.item(1)\n",
    "        bias= line_parameter.item(2)\n",
    "        x1 = np.array([points[:,0].min(), points[:,0].max()])\n",
    "        x2 = -bias / w2 + x1 * (-w1 / w2)\n",
    "        draw(x1,x2)   \n",
    "    \n",
    "    \n",
    "def loss(target,prediction):\n",
    "    return -(target * np.log(prediction) + (1 - target) * (np.log(1 - prediction)))\n",
    "    "
   ]
  },
  {
   "cell_type": "markdown",
   "id": "60e04c2a",
   "metadata": {},
   "source": [
    "# top region"
   ]
  },
  {
   "cell_type": "code",
   "execution_count": null,
   "id": "632efb51",
   "metadata": {},
   "outputs": [],
   "source": [
    "n_pts =100\n",
    "np.random.seed(0)\n",
    "bias = np.ones(n_pts)\n",
    "top_region = np.array([np.random.normal(10,2,n_pts), np.random.normal(12,2,n_pts), bias]).T\n",
    "\n",
    "_, ax = plt.subplots(figsize=(4,4))\n",
    "ax.scatter(top_region[:,0], top_region[:,1], color ='r')\n",
    "\n",
    "plt.show()\n",
    "top_region"
   ]
  },
  {
   "cell_type": "markdown",
   "id": "27fa5194",
   "metadata": {},
   "source": [
    "# bottom region"
   ]
  },
  {
   "cell_type": "code",
   "execution_count": null,
   "id": "7dbad619",
   "metadata": {},
   "outputs": [],
   "source": [
    "#np.random.seed(0)\n",
    "bottom_region = np.array([np.random.normal(5,2,n_pts), np.random.normal(6,2,n_pts), bias]).T\n",
    "bottom_region\n",
    "_, ax= plt.subplots(figsize=(4,4))\n",
    "ax.scatter(bottom_region[:,0], bottom_region[:,1], color = 'b')\n",
    "plt.show()\n",
    "bottom_region\n",
    "all_point = np.vstack((top_region, bottom_region))"
   ]
  },
  {
   "cell_type": "code",
   "execution_count": null,
   "id": "723d7b42",
   "metadata": {},
   "outputs": [],
   "source": [
    "#w1 = -0.2\n",
    "#w2 = -0.35\n",
    "#b= 3.5\n",
    "# transpose \n",
    "#line_parameter = np.matrix([w1,w2,b]).T\n",
    "line_parameter = np.matrix([np.zeros(3)]).T\n",
    "#x1 = np.array([bottom_region[:,0].min(),top_region[:,0].max()])\n",
    "\n",
    "#w1x1 + w2x2 + b= 0\n",
    "#x2 = -b / w2 + x1 * (-w1 / w2)\n",
    "\n",
    "# details\n",
    "\n",
    "#x3 = -b / w2 + x1[0] * (-w1 / w2)\n",
    "#x4 = -b / w2 + x1[1] * (-w1 / w2) \n",
    "#print(x3,x4)\n",
    "\n",
    "#print(all_point.shape)\n",
    "#print(line_parameter.shape)\n",
    "\n",
    "#print(all_point)\n",
    "linear_combination = all_point * line_parameter\n",
    "#print(linear_combination)\n",
    "\n",
    "#print(all_point)\n",
    "\n",
    "prediction = sigmoid(linear_combination)\n",
    "#probabilities\n",
    "\n",
    "target = np.array([np.zeros(n_pts), np.ones(n_pts)]).reshape(n_pts * 2 ,1)\n",
    "#target\n",
    "\n",
    "\n",
    "print(cross_entropy(line_parameter, all_point,target))\n",
    "\n",
    "#print(prediction.T)\n",
    "#target = target\n",
    "#print(target)\n",
    "\n",
    "# converting the matrix into array\n",
    "#target = (np.asarray(target)).flatten()\n",
    "#prediction = (np.asarray(prediction)).flatten()\n",
    "\n",
    "#print(target,prediction)\n",
    "#print(prediction)\n",
    "#error_loss= loss(target, prediction)\n",
    "#print(np.mean(error_loss))"
   ]
  },
  {
   "cell_type": "markdown",
   "id": "1e0e2420",
   "metadata": {},
   "source": [
    "# gradient decent "
   ]
  },
  {
   "cell_type": "code",
   "execution_count": null,
   "id": "f7f96de6",
   "metadata": {},
   "outputs": [],
   "source": [
    "_, ax = plt.subplots(figsize = (4,4))\n",
    "ax.scatter(top_region[:,0], top_region[:,1], color ='r')\n",
    "ax.scatter(bottom_region[:,0], bottom_region[:,1], color = 'b')\n",
    "gradient_decent(line_parameter,all_point,target, 0.06)\n",
    "plt.show()"
   ]
  },
  {
   "cell_type": "code",
   "execution_count": null,
   "id": "4acb2779",
   "metadata": {},
   "outputs": [],
   "source": []
  }
 ],
 "metadata": {
  "kernelspec": {
   "display_name": "ml_learning_With_Image",
   "language": "python",
   "name": "ml_learning_with_image"
  },
  "language_info": {
   "codemirror_mode": {
    "name": "ipython",
    "version": 3
   },
   "file_extension": ".py",
   "mimetype": "text/x-python",
   "name": "python",
   "nbconvert_exporter": "python",
   "pygments_lexer": "ipython3",
   "version": "3.9.7"
  }
 },
 "nbformat": 4,
 "nbformat_minor": 5
}
