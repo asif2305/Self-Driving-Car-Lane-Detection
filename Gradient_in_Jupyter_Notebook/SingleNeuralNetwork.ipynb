{
 "cells": [
  {
   "cell_type": "markdown",
   "id": "2383d6d6",
   "metadata": {},
   "source": [
    "Perceptron: A single unit of login in an artificial neural network. The perceptron is an algorithm, a set of instruction that determines if something is true or false"
   ]
  },
  {
   "cell_type": "markdown",
   "id": "5d83dfcf",
   "metadata": {},
   "source": [
    "![alt text](images/perceptron_1.PNG \"Perceptron\")"
   ]
  },
  {
   "cell_type": "markdown",
   "id": "5c365837",
   "metadata": {},
   "source": [
    "The main component of perceptron is input data, and each perceptron also has a set of weights"
   ]
  },
  {
   "cell_type": "markdown",
   "id": "f4549c78",
   "metadata": {},
   "source": [
    "![alt text](images/perceptron_2.PNG \"Perceptron\")"
   ]
  },
  {
   "cell_type": "markdown",
   "id": "63eaffe8",
   "metadata": {},
   "source": [
    "Whose input weights is higher than other input weights, that input weight will be most significant"
   ]
  },
  {
   "cell_type": "markdown",
   "id": "efa0c72d",
   "metadata": {},
   "source": [
    "![alt text](images/perceptron_3.PNG \"Perceptron\")"
   ]
  },
  {
   "cell_type": "markdown",
   "id": "e91471a6",
   "metadata": {},
   "source": [
    "We will multiple input and weight"
   ]
  },
  {
   "cell_type": "markdown",
   "id": "11fccd6d",
   "metadata": {},
   "source": [
    "![alt text](images/perceptron_4.PNG \"Perceptron\")"
   ]
  },
  {
   "cell_type": "markdown",
   "id": "925cf7e3",
   "metadata": {},
   "source": [
    "Weighted sum "
   ]
  },
  {
   "cell_type": "markdown",
   "id": "6895df3f",
   "metadata": {},
   "source": [
    "![alt text](images/perceptron_5.PNG \"Perceptron\")"
   ]
  },
  {
   "cell_type": "markdown",
   "id": "7c82bd33",
   "metadata": {},
   "source": [
    "We will need to evaluate if the sum has reached a certain threshold. "
   ]
  },
  {
   "cell_type": "markdown",
   "id": "929bcebb",
   "metadata": {},
   "source": [
    "![alt text](images/perceptron_6.PNG \"Perceptron\")"
   ]
  },
  {
   "cell_type": "markdown",
   "id": "6093aa49",
   "metadata": {},
   "source": [
    "In this case our threshold value is 0.5\n",
    "\n",
    "\n"
   ]
  },
  {
   "cell_type": "markdown",
   "id": "efb56363",
   "metadata": {},
   "source": []
  },
  {
   "cell_type": "markdown",
   "id": "76c1bac4",
   "metadata": {},
   "source": [
    "![alt text](images/perceptron_7.PNG \"Perceptron\")"
   ]
  },
  {
   "cell_type": "markdown",
   "id": "d6d9e160",
   "metadata": {},
   "source": [
    "More often we will use the bias being added during the sum operation"
   ]
  },
  {
   "cell_type": "markdown",
   "id": "f985d782",
   "metadata": {},
   "source": [
    "We will evaluate the sum value compared with the threshold, we will use activation function.\n"
   ]
  },
  {
   "cell_type": "markdown",
   "id": "8049ffcb",
   "metadata": {},
   "source": [
    "![alt text](images/perceptron_8.PNG \"Perceptron\")"
   ]
  },
  {
   "cell_type": "markdown",
   "id": "ed285d21",
   "metadata": {},
   "source": [
    "Finally we will get the result"
   ]
  },
  {
   "cell_type": "markdown",
   "id": "4e38bca2",
   "metadata": {},
   "source": [
    "![alt text](images/perceptron_9.PNG \"Perceptron\")"
   ]
  },
  {
   "cell_type": "markdown",
   "id": "33a541c1",
   "metadata": {},
   "source": [
    "Now implement the code\n"
   ]
  },
  {
   "cell_type": "code",
   "execution_count": null,
   "id": "ea568ee0",
   "metadata": {},
   "outputs": [],
   "source": [
    "x_input =[0.1,0.5,0.2]\n",
    "w_weights = [0.4,0.3,0.6]\n",
    "threshold = 0.5"
   ]
  },
  {
   "cell_type": "code",
   "execution_count": null,
   "id": "bcb072bf",
   "metadata": {},
   "outputs": [],
   "source": [
    "def step_function(weighted_sum):\n",
    "    if weighted_sum > threshold:\n",
    "        return 1\n",
    "    else:\n",
    "        return 0"
   ]
  },
  {
   "cell_type": "code",
   "execution_count": null,
   "id": "cba8c1ad",
   "metadata": {},
   "outputs": [],
   "source": [
    "def perceptron():\n",
    "    weighted_sum = 0\n",
    "    for x,w in zip(x_input,w_weights):\n",
    "        weighted_sum += x*w\n",
    "        print(weighted_sum)\n",
    "    return step_function(weighted_sum)\n",
    "\n",
    "output = perceptron()\n",
    "print(\"Output: \"+ str(output))"
   ]
  },
  {
   "cell_type": "markdown",
   "id": "b36b9bfd",
   "metadata": {},
   "source": [
    "Cross Entropy loss Or Error Function"
   ]
  },
  {
   "cell_type": "raw",
   "id": "408f3501",
   "metadata": {},
   "source": [
    "It is used to calculate the distance between a given point and the target. Cross Entropy loss is also called Log Loss\n"
   ]
  },
  {
   "cell_type": "markdown",
   "id": "b20c933f",
   "metadata": {},
   "source": [
    "Example of Cross Entropy"
   ]
  },
  {
   "cell_type": "markdown",
   "id": "762f4a51",
   "metadata": {},
   "source": [
    "At first, initialize the input, weights and target output"
   ]
  },
  {
   "cell_type": "markdown",
   "id": "8b06ca80",
   "metadata": {},
   "source": [
    "![alt Text](images/cross_entropy_1.PNG)"
   ]
  },
  {
   "cell_type": "markdown",
   "id": "a6ab9fe8",
   "metadata": {},
   "source": [
    "Calculate the first input entry with multiply by weights. If weighted sum is less then threshold value then prediction will o"
   ]
  },
  {
   "cell_type": "markdown",
   "id": "f844b3ae",
   "metadata": {},
   "source": [
    "![alt Text](images/cross_entropy_2.PNG)"
   ]
  },
  {
   "cell_type": "markdown",
   "id": "ca80d50c",
   "metadata": {},
   "source": [
    "calculated the 2nd entry to predict the actual output "
   ]
  },
  {
   "cell_type": "markdown",
   "id": "43304f74",
   "metadata": {},
   "source": [
    "![alt Text](images/cross_entropy_3.PNG)"
   ]
  },
  {
   "cell_type": "markdown",
   "id": "347826f4",
   "metadata": {},
   "source": [
    "calculated the 3 and 4 entry "
   ]
  },
  {
   "cell_type": "markdown",
   "id": "93547a6a",
   "metadata": {},
   "source": [
    "![alt Text](images/cross_entropy_4.PNG)"
   ]
  },
  {
   "cell_type": "markdown",
   "id": "02dd9f27",
   "metadata": {},
   "source": [
    "we will use the rule to find the loss of the individuall entry"
   ]
  },
  {
   "cell_type": "markdown",
   "id": "e408657e",
   "metadata": {},
   "source": [
    "![alt Text](images/cross_entropy_5.PNG)"
   ]
  },
  {
   "cell_type": "markdown",
   "id": "2cbcd3a9",
   "metadata": {},
   "source": [
    "calculate the first entry "
   ]
  },
  {
   "cell_type": "markdown",
   "id": "bc2250a8",
   "metadata": {},
   "source": [
    "![alt Text](images/cross_entropy_6.PNG)"
   ]
  },
  {
   "cell_type": "markdown",
   "id": "dd09394c",
   "metadata": {},
   "source": [
    "calculate the 2nd entry"
   ]
  },
  {
   "cell_type": "markdown",
   "id": "e855173b",
   "metadata": {},
   "source": [
    "![alt Text](images/cross_entropy_7.PNG)"
   ]
  },
  {
   "cell_type": "markdown",
   "id": "df824086",
   "metadata": {},
   "source": [
    "Get the all calculated loss with individual entry"
   ]
  },
  {
   "cell_type": "markdown",
   "id": "f4f239f1",
   "metadata": {},
   "source": []
  },
  {
   "cell_type": "markdown",
   "id": "7f4b7c8a",
   "metadata": {},
   "source": [
    "![alt Text](images/cross_entropy_8.PNG)"
   ]
  },
  {
   "cell_type": "markdown",
   "id": "b5260388",
   "metadata": {},
   "source": [
    "calculate the average of the loss values"
   ]
  },
  {
   "cell_type": "markdown",
   "id": "3adab9de",
   "metadata": {},
   "source": [
    "![alt Text](images/cross_entropy_9.PNG)"
   ]
  },
  {
   "cell_type": "markdown",
   "id": "aae151e9",
   "metadata": {},
   "source": [
    "Final formula"
   ]
  },
  {
   "cell_type": "markdown",
   "id": "f6be4350",
   "metadata": {},
   "source": [
    "![alt Text](images/cross_entropy_10.PNG)"
   ]
  },
  {
   "cell_type": "raw",
   "id": "c0c7309f",
   "metadata": {},
   "source": [
    "Implementation with python code"
   ]
  },
  {
   "cell_type": "code",
   "execution_count": 3,
   "id": "9d3854ea",
   "metadata": {},
   "outputs": [],
   "source": [
    "import math\n",
    "\n",
    "input_data= [(0.26,1),\n",
    "             (0.20,0),\n",
    "             (0.48,1),\n",
    "             (0.30,0)]\n"
   ]
  },
  {
   "cell_type": "code",
   "execution_count": 4,
   "id": "43b3a64a",
   "metadata": {},
   "outputs": [
    {
     "name": "stdout",
     "output_type": "stream",
     "text": [
      "0.585026652029182\n",
      "0.6819366650372384\n",
      "1.000695427661651\n",
      "1.1555973876473944\n",
      "0.2888993469118486\n"
     ]
    }
   ],
   "source": [
    "def cross_entropy(input_data):\n",
    "    loss = 0\n",
    "    n = len(input_data)\n",
    "    \n",
    "    for entry in input_data:\n",
    "        w_sum = entry[0]\n",
    "        y = entry[1]\n",
    "        loss += -(y*math.log10(w_sum) + (1-y)* math.log10(1-w_sum))\n",
    "        print(loss)\n",
    "    \n",
    "    return loss / n    \n",
    "\n",
    "error_term = cross_entropy(input_data)\n",
    "\n",
    "print(error_term)"
   ]
  },
  {
   "cell_type": "raw",
   "id": "12c417c4",
   "metadata": {},
   "source": [
    "Step :\n",
    "    1. First calculate prediction with sigmoid activation\n",
    "    2: Find the error\n",
    "    3: Calculate the gradient decent    "
   ]
  },
  {
   "cell_type": "code",
   "execution_count": null,
   "id": "324f9178",
   "metadata": {},
   "outputs": [],
   "source": [
    "import numpy as np\n",
    "import pandas as pd"
   ]
  },
  {
   "cell_type": "markdown",
   "id": "2fe7667c",
   "metadata": {},
   "source": [
    "![text](images/gradient_2.PNG)"
   ]
  },
  {
   "cell_type": "code",
   "execution_count": null,
   "id": "224d9a04",
   "metadata": {},
   "outputs": [],
   "source": [
    "# Activation Function\n",
    "def sigmoid(w_sum):\n",
    "    return 1/(1+np.exp(-w_sum))"
   ]
  },
  {
   "cell_type": "markdown",
   "id": "b5e30bcf",
   "metadata": {},
   "source": [
    "![alt Text](images/gradient_1.PNG)"
   ]
  },
  {
   "cell_type": "code",
   "execution_count": null,
   "id": "9f50de1d",
   "metadata": {},
   "outputs": [],
   "source": [
    "# Get Model Output\n",
    "def get_prediction(features, weights, bias):\n",
    "   # print(np.dot(features, weights) + bias)\n",
    "    return sigmoid(np.dot(features, weights) + bias)"
   ]
  },
  {
   "cell_type": "markdown",
   "id": "a2c0f06a",
   "metadata": {},
   "source": [
    "![alt Text](images/gradient_3.PNG)"
   ]
  },
  {
   "cell_type": "code",
   "execution_count": null,
   "id": "f25f2a19",
   "metadata": {},
   "outputs": [],
   "source": [
    "# Loss Function\n",
    "def cross_entropy(target, pred):\n",
    "    return -(target*np.log10(pred)+(1-target)*(np.log10(1-pred)))"
   ]
  },
  {
   "cell_type": "markdown",
   "id": "101b119a",
   "metadata": {},
   "source": [
    "![alt Text](images/gradient_4.PNG)"
   ]
  },
  {
   "cell_type": "markdown",
   "id": "be03be02",
   "metadata": {},
   "source": [
    "![alt Text](images/gradient_5.PNG)"
   ]
  },
  {
   "cell_type": "code",
   "execution_count": null,
   "id": "9f80ac20",
   "metadata": {},
   "outputs": [],
   "source": [
    "# Update Weights\n",
    "def gradient_descent(feature, weights, target, prediction, l_rate, bias):\n",
    "    # find new weights and bias\n",
    "    new_weights = []\n",
    "    bias += l_rate*(target-prediction)\n",
    "    for x,w in zip(feature, weights):\n",
    "        new_w = w + l_rate*(target - prediction)*x\n",
    "        new_weights.append(new_w)\n",
    "    # return updated values\n",
    "    return new_weights, bias\n",
    "\n",
    "# Data\n",
    "features = np.array(([0.1,0.5,0.2],\n",
    "                     [0.2,0.3,0.1],\n",
    "                     [0.7,0.4,0.2],\n",
    "                     [0.1,0.4,0.3]))\n",
    "\n",
    "targets = np.array([0,1,0,1])\n",
    "weights = np.array([0.4, 0.2, 0.6])\n",
    "bias = 0.5\n",
    "l_rate = 0.1"
   ]
  },
  {
   "cell_type": "markdown",
   "id": "e39e2d86",
   "metadata": {},
   "source": [
    "![alt Text](images/gradient_6.PNG)"
   ]
  },
  {
   "cell_type": "code",
   "execution_count": null,
   "id": "784be584",
   "metadata": {},
   "outputs": [],
   "source": [
    "epoch_loss = []\n",
    "# Gradient Descent Steps Over 10 Epochs\n",
    "for epoch in range(10):\n",
    "    for x, y in zip(features, targets):\n",
    "        pred = get_prediction(x, weights, bias)\n",
    "        error = cross_entropy(y, pred)\n",
    "        weights, bias = gradient_descent(x, weights, y, pred, l_rate, bias)\n",
    "        \n",
    "\n",
    "    # Calculate and Print Average Loss\n",
    " \n",
    "    predictions = get_prediction(features, weights, bias)\n",
    "\n",
    "    average_loss = np.mean(cross_entropy(targets, predictions))\n",
    "    print(\"*****************************\")\n",
    "    print(\"EPOCH\", str(epoch))\n",
    "    print(\"*****************************\")\n",
    "    print(\"Average Loss: \", average_loss)\n",
    "    \n",
    "    # plot the average loss\n",
    "df = pd.DataFrame(epoch_loss)\n",
    "df_plot = df.plot(kind=\"line\", grid = True).get_figure()\n",
    "df_plot.savefig(\"Training_Loss.pdf\")\n",
    "#df_plot.show()\n",
    "plt.show()"
   ]
  },
  {
   "cell_type": "code",
   "execution_count": null,
   "id": "f3ce801f",
   "metadata": {},
   "outputs": [],
   "source": []
  },
  {
   "cell_type": "code",
   "execution_count": null,
   "id": "f348d298",
   "metadata": {},
   "outputs": [],
   "source": []
  },
  {
   "cell_type": "code",
   "execution_count": null,
   "id": "15ec3a7d",
   "metadata": {},
   "outputs": [],
   "source": []
  }
 ],
 "metadata": {
  "kernelspec": {
   "display_name": "ml_learning_With_Image",
   "language": "python",
   "name": "ml_learning_with_image"
  },
  "language_info": {
   "codemirror_mode": {
    "name": "ipython",
    "version": 3
   },
   "file_extension": ".py",
   "mimetype": "text/x-python",
   "name": "python",
   "nbconvert_exporter": "python",
   "pygments_lexer": "ipython3",
   "version": "3.9.7"
  }
 },
 "nbformat": 4,
 "nbformat_minor": 5
}
